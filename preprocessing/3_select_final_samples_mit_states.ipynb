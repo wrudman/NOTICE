{
 "cells": [
  {
   "cell_type": "code",
   "execution_count": null,
   "id": "3e060341-30f3-439f-bd81-5a0812eeb37f",
   "metadata": {},
   "outputs": [],
   "source": [
    "import pandas as pd\n",
    "df_updated = pd.read_csv(\"BLIP_results_mit_states.csv\")"
   ]
  },
  {
   "cell_type": "code",
   "execution_count": null,
   "id": "5cbc2d4e-f2e5-4ab2-a293-d4dd36d7f34b",
   "metadata": {},
   "outputs": [],
   "source": [
    "df_correct=df_updated[df_updated[\"correct_answer\"] == df_updated[\"generated_answer\"]]\n",
    "df_correct"
   ]
  },
  {
   "cell_type": "code",
   "execution_count": null,
   "id": "6726fa72-2827-4cc6-b4f5-f81716df572f",
   "metadata": {},
   "outputs": [],
   "source": [
    "df = df_correct\n",
    "color_df = df[df['state'] == 'color']\n",
    "shape_df = df[df['state'] == 'shape']\n",
    "texture_df = df[df['state'] == 'texture']\n",
    "\n",
    "def sample_state(state_df):\n",
    "    correct_first = state_df[state_df['clean_prompt'].str.contains(f' {state_df[\"correct_answer\"].iloc[0]} or')]\n",
    "    correct_second = state_df[state_df['clean_prompt'].str.contains(f'or {state_df[\"correct_answer\"].iloc[0]}')]\n",
    "\n",
    "    # Sample to ensure at least one of each correct answer\n",
    "    unique_correct_answers = state_df['correct_answer'].unique()\n",
    "    samples = []\n",
    "    \n",
    "    for answer in unique_correct_answers:\n",
    "        correct_first_sample = correct_first[correct_first['correct_answer'] == answer]\n",
    "        correct_second_sample = correct_second[correct_second['correct_answer'] == answer]\n",
    "        \n",
    "        if not correct_first_sample.empty:\n",
    "            samples.append(correct_first_sample.sample(1))\n",
    "        if not correct_second_sample.empty:\n",
    "            samples.append(correct_second_sample.sample(1))\n",
    "    \n",
    "    correct_first_remaining = correct_first.drop(pd.concat(samples).index, errors='ignore')\n",
    "    correct_second_remaining = correct_second.drop(pd.concat(samples).index, errors='ignore')\n",
    "\n",
    "    correct_first_samples = pd.concat([pd.concat(samples), correct_first_remaining.sample(250 - len(samples)//2, replace=True)])\n",
    "    correct_second_samples = pd.concat([pd.concat(samples), correct_second_remaining.sample(250 - len(samples)//2, replace=True)])\n",
    "\n",
    "    combined_samples = pd.concat([correct_first_samples, correct_second_samples]).sample(500, replace=True)\n",
    "\n",
    "    return combined_samples\n",
    "\n",
    "# Sample 500 rows from each state\n",
    "color_samples = sample_state(df[df['state'] == 'color'])\n",
    "shape_samples = sample_state(df[df['state'] == 'shape'])\n",
    "texture_samples = sample_state(df[df['state'] == 'texture'])\n",
    "\n",
    "# Combine all samples into one DataFrame\n",
    "final_samples = pd.concat([color_samples, shape_samples, texture_samples])\n",
    "\n",
    "# Display the final sampled DataFrame\n",
    "final_samples"
   ]
  },
  {
   "cell_type": "code",
   "execution_count": null,
   "id": "491c849a-e584-4efd-9906-7408b1db3d6a",
   "metadata": {},
   "outputs": [],
   "source": [
    "final_samples = final_samples.reset_index(drop=True)"
   ]
  },
  {
   "cell_type": "code",
   "execution_count": null,
   "id": "2b5062f0-d3ce-4a6f-ab1d-2e08450a183b",
   "metadata": {},
   "outputs": [],
   "source": [
    "final_samples['correct_first'] = final_samples.apply(lambda row: row['clean_prompt'].split(' ')[3] == row['correct_answer'], axis=1)\n",
    "\n",
    "final_samples"
   ]
  },
  {
   "cell_type": "code",
   "execution_count": null,
   "id": "2eaa1f7e-db89-4a44-b5dd-2529d8433ad2",
   "metadata": {},
   "outputs": [],
   "source": [
    "final_samples.to_csv(\"BLIP_final_mit_states.csv\", index=False)"
   ]
  },
  {
   "cell_type": "code",
   "execution_count": null,
   "id": "2c8a9b9f-d04b-4b51-83dd-e72502def009",
   "metadata": {},
   "outputs": [],
   "source": []
  }
 ],
 "metadata": {
  "kernelspec": {
   "display_name": "Python 3 (ipykernel)",
   "language": "python",
   "name": "python3"
  },
  "language_info": {
   "codemirror_mode": {
    "name": "ipython",
    "version": 3
   },
   "file_extension": ".py",
   "mimetype": "text/x-python",
   "name": "python",
   "nbconvert_exporter": "python",
   "pygments_lexer": "ipython3",
   "version": "3.9.16"
  }
 },
 "nbformat": 4,
 "nbformat_minor": 5
}
