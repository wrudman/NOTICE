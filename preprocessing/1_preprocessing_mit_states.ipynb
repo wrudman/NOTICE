{
 "cells": [
  {
   "cell_type": "code",
   "execution_count": null,
   "id": "5546046b",
   "metadata": {
    "scrolled": true
   },
   "outputs": [],
   "source": [
    "import os\n",
    "import pandas as pd\n",
    "\n",
    "#To download the images, go to https://web.mit.edu/phillipi/Public/states_and_transformations/index.html\n",
    "file_list  = os.listdir(\"../MIT_states/images/\")\n",
    "file_list"
   ]
  },
  {
   "cell_type": "code",
   "execution_count": null,
   "id": "f3c5b525",
   "metadata": {
    "scrolled": true
   },
   "outputs": [],
   "source": [
    "filtered_list = [item for item in file_list if ' ' in item]\n",
    "split_items = [item.split(' ', 1) for item in filtered_list]\n",
    "\n",
    "# Create a DataFrame with two columns: 'First' and 'Second'\n",
    "df = pd.DataFrame(split_items, columns=['First', 'Second'])\n",
    "\n",
    "df.head()"
   ]
  },
  {
   "cell_type": "code",
   "execution_count": null,
   "id": "fe81665a-82ef-44db-84b5-29e12764e753",
   "metadata": {},
   "outputs": [],
   "source": [
    "shape = [\n",
    "    'small', 'large', 'thick', 'thin', 'coiled',  \n",
    "    'cracked', 'folded', 'sliced', 'dented', 'chipped', 'shattered', \n",
    "    'diced', 'straight', 'empty', 'cut', 'pressed', 'torn', 'broken','tiny', 'huge', 'melted','draped', 'scratched'\n",
    "]\n",
    "\n",
    "color = [\n",
    "    'caramelized', 'painted', 'bright', 'dark', 'unpainted', 'engraved','wet',\n",
    "    'burnt','weathered','rusty', 'old','new','dry','verdant', 'clean', 'frozen', 'thawed',  'ancient','moldy', 'muddy', 'fresh'\n",
    "]\n",
    "\n",
    "texture = ['crushed', 'crumpled','splintered','wrinkled', \n",
    "        'ruffled',  'mossy',  'molten', 'windblown',  'eroded', 'pureed', \n",
    "    'crinkled', 'frayed', 'brushed', \n",
    "    'barren']"
   ]
  },
  {
   "cell_type": "code",
   "execution_count": null,
   "id": "32fe0836-6e75-4579-aa44-fcbaee86c5fc",
   "metadata": {},
   "outputs": [],
   "source": [
    "shape_similar = {\n",
    "    'small': ['tiny', 'little'],\n",
    "    'large': ['huge', 'massive', 'thick'],\n",
    "    'thick': ['large', 'huge', 'massive'],\n",
    "    'thin': ['slim'],\n",
    "    'coiled': [],\n",
    "    'cracked': ['broken', 'chipped', 'shattered', 'splintered'],\n",
    "    'folded': [],\n",
    "    'sliced': ['diced'],\n",
    "    'dented': [],\n",
    "    'chipped': ['broken', 'cracked', 'shattered', 'splintered'],\n",
    "    'shattered': ['broken', 'cracked', 'chipped', 'splintered'],\n",
    "    'diced': ['sliced'],\n",
    "    'straight': [],\n",
    "    'empty': [],\n",
    "    'cut': ['torn'],\n",
    "    'pressed': [],\n",
    "    'torn': ['cut'],\n",
    "    'broken': ['cracked', 'chipped', 'shattered', 'splintered'],\n",
    "    'tiny': ['small', 'little'],\n",
    "    'huge': ['large', 'massive', 'thick'],\n",
    "    'melted': [],\n",
    "    'draped': [],\n",
    "    'scratched': ['cracked', 'chipped', 'shattered', 'broken', 'splintered']\n",
    "}\n",
    "\n",
    "color_similar = {\n",
    "    'caramelized': [],\n",
    "    'painted': [],\n",
    "    'bright': [],\n",
    "    'dark': [],\n",
    "    'unpainted': [],\n",
    "    'engraved': [],\n",
    "    'wet': ['moist'],\n",
    "    'burnt': [],\n",
    "    'weathered': ['rusty', 'ancient', 'old'],\n",
    "    'rusty' : ['ancient', 'weathered', 'old'],\n",
    "    'old': ['ancient', 'weathered', 'rusty'],\n",
    "    'new': ['fresh', 'clean'],\n",
    "    'dry': [],\n",
    "    'verdant': [],\n",
    "    'clean': ['new', 'fresh'],\n",
    "    'frozen': [],\n",
    "    'thawed': [],\n",
    "    'ancient': ['old', 'weathered', 'rusty'],\n",
    "    'moldy': [],\n",
    "    'muddy': [],\n",
    "    'fresh': ['clean', 'new']\n",
    "}\n",
    "\n",
    "texture_similar = {\n",
    "    'crushed': ['cracked', 'chipped', 'shattered', 'broken', 'splintered'],\n",
    "    'crumpled': ['wrinkled', 'crinkled'],\n",
    "    'splintered': ['cracked', 'chipped', 'shattered', 'broken', 'crushed'],\n",
    "    'wrinkled': ['crumpled', 'crinkled'],\n",
    "    'ruffled': ['frayed'],\n",
    "    'mossy': [],\n",
    "    'molten': [],\n",
    "    'windblown': ['barren'],\n",
    "    'eroded': [],\n",
    "    'pureed': [],\n",
    "    'crinkled': ['crumpled', 'wrinkled'],\n",
    "    'frayed': ['ruffled'],\n",
    "    'brushed': [],\n",
    "    'barren': ['windblown']\n",
    "}\n"
   ]
  },
  {
   "cell_type": "code",
   "execution_count": null,
   "id": "e2c2b099-7c43-470c-99b9-4ee553df179c",
   "metadata": {
    "scrolled": true
   },
   "outputs": [],
   "source": [
    "combined_states = list(color_similar.keys()) + list(shape_similar.keys()) + list(texture_similar.keys())\n",
    "unique_states_list = list(set(combined_states))\n",
    "unique_states_list"
   ]
  },
  {
   "cell_type": "code",
   "execution_count": null,
   "id": "be62bd72",
   "metadata": {},
   "outputs": [],
   "source": [
    "df = df[df[\"First\"].isin(unique_states_list)]"
   ]
  },
  {
   "cell_type": "code",
   "execution_count": null,
   "id": "b03c574e-f20b-4a1a-a8e1-66f445eab384",
   "metadata": {},
   "outputs": [],
   "source": [
    "df"
   ]
  },
  {
   "cell_type": "code",
   "execution_count": null,
   "id": "3f21178b-cff5-427f-b717-f19f4c946542",
   "metadata": {},
   "outputs": [],
   "source": [
    "import glob\n",
    "df.rename(columns={\"First\": \"correct_answer\", \"Second\": \"noun\"}, inplace=True)\n",
    "\n",
    "# Base path\n",
    "base_path = \"../MIT_states/images/\"\n",
    "\n",
    "# Expand the DataFrame\n",
    "expanded_rows = []\n",
    "\n",
    "for _, row in df.iterrows():\n",
    "    folder_path = f\"{base_path}{row['correct_answer']} {row['noun']}\"\n",
    "    image_paths = glob.glob(f\"{folder_path}/*\")\n",
    "    for image_path in image_paths:\n",
    "        expanded_rows.append({\n",
    "            \"correct_answer\": row[\"correct_answer\"],\n",
    "            \"noun\": row[\"noun\"],\n",
    "            \"image_path\": image_path\n",
    "        })\n",
    "\n",
    "# Create a new DataFrame from the expanded rows\n",
    "expanded_df = pd.DataFrame(expanded_rows)"
   ]
  },
  {
   "cell_type": "code",
   "execution_count": null,
   "id": "53045aa4-66b0-4ff7-a7e6-33877f094863",
   "metadata": {},
   "outputs": [],
   "source": [
    "expanded_df"
   ]
  },
  {
   "cell_type": "code",
   "execution_count": null,
   "id": "90dfb4ea-1e3d-4268-a607-88cc292502c1",
   "metadata": {},
   "outputs": [],
   "source": [
    "import random\n",
    "from collections import defaultdict\n",
    "similar_dict = {**shape_similar, **color_similar, **texture_similar}\n",
    "\n",
    "all_words = list(set(list(shape_similar.keys()) + list(color_similar.keys()) + list(texture_similar.keys())))\n",
    "\n",
    "precomputed_incorrect_answers = defaultdict(dict)\n",
    "\n",
    "for noun in expanded_df['noun'].unique():\n",
    "    noun_df = expanded_df[expanded_df['noun'] == noun]\n",
    "    for correct_answer in all_words:\n",
    "        possible_incorrect_answers = [\n",
    "            word for word in all_words \n",
    "            if word not in similar_dict[correct_answer] \n",
    "            and word != correct_answer \n",
    "            and not noun_df[noun_df['correct_answer'] == word].empty\n",
    "        ]\n",
    "        precomputed_incorrect_answers[noun][correct_answer] = possible_incorrect_answers\n"
   ]
  },
  {
   "cell_type": "code",
   "execution_count": null,
   "id": "82b5e32f-838e-4500-bbae-6242fe912af5",
   "metadata": {},
   "outputs": [],
   "source": [
    "def generate_prompt(row):\n",
    "    correct_answer = row['correct_answer']\n",
    "    noun = row['noun']\n",
    "    \n",
    "    # Get possible incorrect answers from the precomputed dictionary\n",
    "    possible_incorrect_answers = precomputed_incorrect_answers[noun].get(correct_answer, [])\n",
    "    \n",
    "    # Check if possible_incorrect_answers is empty\n",
    "    if not possible_incorrect_answers:\n",
    "        # Handle the case where no incorrect answer is found\n",
    "        incorrect_answer = \"default\"  # You can set a more appropriate default value or handle this case differently\n",
    "    else:\n",
    "        # Choose an incorrect answer randomly\n",
    "        incorrect_answer = random.choice(possible_incorrect_answers)\n",
    "    \n",
    "    # Randomize the placement of correct answer\n",
    "    if random.random() > 0.5:\n",
    "        prompt = f\"Is this {noun} {correct_answer} or {incorrect_answer}?\"\n",
    "    else:\n",
    "        prompt = f\"Is this {noun} {incorrect_answer} or {correct_answer}?\"\n",
    "    \n",
    "    return prompt, incorrect_answer\n",
    "\n",
    "# Apply the function to get the prompts and incorrect answers\n",
    "expanded_df[['clean_prompt', 'incorrect_answer']] = expanded_df.apply(lambda row: pd.Series(generate_prompt(row)), axis=1)\n",
    "\n",
    "expanded_df"
   ]
  },
  {
   "cell_type": "code",
   "execution_count": null,
   "id": "73a60a31-cf5d-43ce-ba11-1bee34c88333",
   "metadata": {},
   "outputs": [],
   "source": [
    "def determine_state(correct_answer):\n",
    "    if correct_answer in shape_similar:\n",
    "        return 'shape'\n",
    "    elif correct_answer in color_similar:\n",
    "        return 'color'\n",
    "    elif correct_answer in texture_similar:\n",
    "        return 'texture'\n",
    "    else:\n",
    "        return 'unknown'\n",
    "\n",
    "\n",
    "expanded_df['state'] = expanded_df['correct_answer'].apply(determine_state)\n"
   ]
  },
  {
   "cell_type": "code",
   "execution_count": null,
   "id": "52549479-8a11-4d50-8df9-31cc98f8a9c8",
   "metadata": {},
   "outputs": [],
   "source": [
    "expanded_df.tail(10)"
   ]
  },
  {
   "cell_type": "code",
   "execution_count": null,
   "id": "1f90d7ab-dd35-4150-8593-29a8613db37d",
   "metadata": {},
   "outputs": [],
   "source": [
    "expanded_df.rename(columns={\"image_path\": \"clean_image_path\"}, inplace=True)"
   ]
  },
  {
   "cell_type": "code",
   "execution_count": null,
   "id": "6c0481a2-61bf-4848-ad1f-52ae5f8943a4",
   "metadata": {},
   "outputs": [],
   "source": [
    "def get_incorrect_image_path(row, df):\n",
    "    incorrect_answer = row['incorrect_answer']\n",
    "    noun = row['noun']\n",
    "    \n",
    "    # Filter the DataFrame to find matching incorrect answers and nouns\n",
    "    matching_rows = df[(df['correct_answer'] == incorrect_answer) & (df['noun'] == noun)]\n",
    "    \n",
    "    # If matching rows exist, randomly select one and return its image path\n",
    "    if not matching_rows.empty:\n",
    "        return random.choice(matching_rows['clean_image_path'].tolist())\n",
    "    return None\n",
    "\n",
    "# Apply the function to get the incorrect image path for each row\n",
    "expanded_df['corrupt_image_path'] = expanded_df.apply(lambda row: get_incorrect_image_path(row, expanded_df), axis=1)"
   ]
  },
  {
   "cell_type": "code",
   "execution_count": null,
   "id": "65dd574b-5e32-4c9b-8524-d0e5ba28b4f2",
   "metadata": {},
   "outputs": [],
   "source": [
    "expanded_df"
   ]
  },
  {
   "cell_type": "code",
   "execution_count": null,
   "id": "2f2e5ccd-60c5-48b3-ac9a-19bb46b82908",
   "metadata": {},
   "outputs": [],
   "source": [
    "expanded_df = expanded_df.drop_duplicates([\"corrupt_image_path\"]).drop_duplicates([\"clean_image_path\"])"
   ]
  },
  {
   "cell_type": "code",
   "execution_count": null,
   "id": "358cfb30-c719-4d88-86c8-20dc39f6503b",
   "metadata": {},
   "outputs": [],
   "source": [
    "def generate_corrupt_prompt(prompt):\n",
    "    words = prompt.split(\" \")\n",
    "    noun = words[2]\n",
    "    correct_adjective = words[3]\n",
    "    incorrect_adjective = words[5][:-1]  # Removing the '?' at the end\n",
    "    \n",
    "    # Get possible replacements for correct_adjective\n",
    "    possible_replacements_correct = [word for word in all_words if word not in similar_dict.get(correct_adjective, []) + [correct_adjective]]\n",
    "    \n",
    "    # Get possible replacements for incorrect_adjective\n",
    "    possible_replacements_incorrect = [word for word in all_words if word not in similar_dict.get(incorrect_adjective, []) + [incorrect_adjective]]\n",
    "    \n",
    "    # Choose replacements randomly\n",
    "    new_correct_adjective = random.choice(possible_replacements_correct)\n",
    "    new_incorrect_adjective = random.choice(possible_replacements_incorrect)\n",
    "    \n",
    "    # Replace adjectives in the prompt\n",
    "    new_prompt = f\"Is this {noun} {new_correct_adjective} or {new_incorrect_adjective}?\"\n",
    "    \n",
    "    return new_prompt\n",
    "\n",
    "expanded_df['corrupt_prompt'] = expanded_df['clean_prompt'].apply(generate_corrupt_prompt)\n"
   ]
  },
  {
   "cell_type": "code",
   "execution_count": null,
   "id": "1737c83b-ba43-49de-92a1-e9570dbf6436",
   "metadata": {},
   "outputs": [],
   "source": [
    "expanded_df.to_csv(\"mit_states_cleaned.csv\", index=False)"
   ]
  },
  {
   "cell_type": "code",
   "execution_count": null,
   "id": "24ab5fce-cdda-451b-8417-8bb74ed86191",
   "metadata": {},
   "outputs": [],
   "source": []
  }
 ],
 "metadata": {
  "kernelspec": {
   "display_name": "Python 3 (ipykernel)",
   "language": "python",
   "name": "python3"
  },
  "language_info": {
   "codemirror_mode": {
    "name": "ipython",
    "version": 3
   },
   "file_extension": ".py",
   "mimetype": "text/x-python",
   "name": "python",
   "nbconvert_exporter": "python",
   "pygments_lexer": "ipython3",
   "version": "3.9.16"
  }
 },
 "nbformat": 4,
 "nbformat_minor": 5
}
