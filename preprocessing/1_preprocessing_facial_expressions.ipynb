{
 "cells": [
  {
   "cell_type": "code",
   "execution_count": null,
   "id": "f3fbc16b-2ece-4075-9ff0-d88bb1bedeac",
   "metadata": {},
   "outputs": [],
   "source": [
    "import os\n",
    "import pandas as pd\n",
    "\n",
    "# Path to the train folder\n",
    "# This can be obtained here: https://www.kaggle.com/datasets/samaneheslamifar/facial-emotion-expressions\n",
    "train_dir = 'images/train'\n",
    "\n",
    "# List to store image paths and their corresponding emotions\n",
    "data = []\n",
    "\n",
    "# Loop through each emotion folder\n",
    "for emotion in os.listdir(train_dir):\n",
    "    emotion_dir = os.path.join(train_dir, emotion)\n",
    "    if os.path.isdir(emotion_dir):\n",
    "        # Loop through each image in the emotion folder\n",
    "        for image_name in os.listdir(emotion_dir):\n",
    "            if image_name.endswith('.jpg'):\n",
    "                image_path = os.path.join(emotion_dir, image_name)\n",
    "                data.append([image_path, emotion])\n",
    "\n",
    "# Create a DataFrame\n",
    "df = pd.DataFrame(data, columns=['image_path', 'emotion'])"
   ]
  },
  {
   "cell_type": "code",
   "execution_count": null,
   "id": "e4408e94-bfa4-4f7f-b240-574a4c5bf286",
   "metadata": {},
   "outputs": [],
   "source": [
    "def convert_to_adjective(emotion):\n",
    "    if emotion == \"disgust\":\n",
    "        return \"disgusted\"\n",
    "    elif emotion == \"surprise\":\n",
    "        return \"surprised\"\n",
    "    elif emotion == \"fear\":\n",
    "        return \"fearful\"\n",
    "    else:\n",
    "        return emotion\n",
    "\n",
    "df['emotion'] = df['emotion'].apply(convert_to_adjective)\n"
   ]
  },
  {
   "cell_type": "code",
   "execution_count": null,
   "id": "601ef4d9-1f7f-4c94-afe3-96541a221842",
   "metadata": {},
   "outputs": [],
   "source": [
    "emotions = df['emotion'].unique().tolist()\n",
    "emotions"
   ]
  },
  {
   "cell_type": "code",
   "execution_count": null,
   "id": "5072fefc-1452-43c9-80e4-7ad8d4ef08e9",
   "metadata": {},
   "outputs": [],
   "source": [
    "import random\n",
    "def create_prompt(correct_emotion):\n",
    "    incorrect_emotion = random.choice([emotion for emotion in emotions if emotion != correct_emotion])\n",
    "    if random.choice([True, False]):\n",
    "        return f\"Is this person feeling {correct_emotion} or {incorrect_emotion}?\"\n",
    "    else:\n",
    "        return f\"Is this person feeling {incorrect_emotion} or {correct_emotion}?\"\n",
    "\n",
    "# Adding prompt column\n",
    "df['clean_prompt'] = df['emotion'].apply(create_prompt)"
   ]
  },
  {
   "cell_type": "code",
   "execution_count": null,
   "id": "1cda743f-471f-4773-93ea-7cc6c134185f",
   "metadata": {},
   "outputs": [],
   "source": [
    "df.rename(columns={\"emotion\": \"correct_answer\", \"image_path\": \"clean_image_path\"}, inplace=True)"
   ]
  },
  {
   "cell_type": "code",
   "execution_count": null,
   "id": "ebc6634f-57cb-41b5-96c9-578eef807adb",
   "metadata": {},
   "outputs": [],
   "source": [
    "def extract_incorrect_answer(prompt, correct_answer):\n",
    "    options = prompt.split(\"feeling \")[1].split(\" or \")\n",
    "    incorrect_answer = options[1] if options[0] == correct_answer else options[0]\n",
    "    return incorrect_answer\n",
    "\n",
    "df['incorrect_answer'] = df.apply(lambda row: extract_incorrect_answer(row['clean_prompt'], row['correct_answer']), axis=1)"
   ]
  },
  {
   "cell_type": "code",
   "execution_count": null,
   "id": "97de0301-7da3-4df0-a491-13a2f52249e6",
   "metadata": {},
   "outputs": [],
   "source": [
    "df['incorrect_answer'] = df['incorrect_answer'].str.replace(\"?\", \"\")"
   ]
  },
  {
   "cell_type": "code",
   "execution_count": null,
   "id": "0b45f409-4e2f-4c72-8090-ec0d7c666690",
   "metadata": {
    "scrolled": true
   },
   "outputs": [],
   "source": [
    "image_paths_by_emotion = {\n",
    "    \"angry\": [path for path in df['clean_image_path'] if \"angry\" in path],\n",
    "    \"happy\": [path for path in df['clean_image_path'] if \"happy\" in path],\n",
    "    \"sad\": [path for path in df['clean_image_path'] if \"sad\" in path],\n",
    "    \"disgusted\": [path for path in df['clean_image_path'] if \"disgust\" in path],\n",
    "    \"fearful\": [path for path in df['clean_image_path'] if \"fear\" in path],\n",
    "    \"surprised\": [path for path in df['clean_image_path'] if \"surprise\" in path],\n",
    "    \"neutral\": [path for path in df['clean_image_path'] if \"neutral\" in path],\n",
    "}\n",
    "\n",
    "image_paths_by_emotion"
   ]
  },
  {
   "cell_type": "code",
   "execution_count": null,
   "id": "4e0b7cf3-3c75-4be0-9ef2-baf717ef90e2",
   "metadata": {},
   "outputs": [],
   "source": [
    "def get_random_incorrect_image_path(incorrect_answer):\n",
    "    if incorrect_answer in image_paths_by_emotion and image_paths_by_emotion[incorrect_answer]:\n",
    "        return random.choice(image_paths_by_emotion[incorrect_answer])\n",
    "    else:\n",
    "        return None\n",
    "\n",
    "df['corrupt_image_path'] = df['incorrect_answer'].apply(get_random_incorrect_image_path)\n"
   ]
  },
  {
   "cell_type": "code",
   "execution_count": null,
   "id": "0770e0b5-9b9e-4caa-9672-c93885acb6a7",
   "metadata": {},
   "outputs": [],
   "source": [
    "df.to_csv(\"facial_expressions_cleaned.csv\", index=False)"
   ]
  },
  {
   "cell_type": "code",
   "execution_count": null,
   "id": "9ebd5d07-ce1e-40f7-8c0e-27f7dca48537",
   "metadata": {},
   "outputs": [],
   "source": []
  }
 ],
 "metadata": {
  "kernelspec": {
   "display_name": "Python 3 (ipykernel)",
   "language": "python",
   "name": "python3"
  },
  "language_info": {
   "codemirror_mode": {
    "name": "ipython",
    "version": 3
   },
   "file_extension": ".py",
   "mimetype": "text/x-python",
   "name": "python",
   "nbconvert_exporter": "python",
   "pygments_lexer": "ipython3",
   "version": "3.9.16"
  }
 },
 "nbformat": 4,
 "nbformat_minor": 5
}
