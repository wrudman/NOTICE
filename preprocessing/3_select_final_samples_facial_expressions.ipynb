{
 "cells": [
  {
   "cell_type": "code",
   "execution_count": null,
   "id": "c638f5da-02a7-48e1-a5d5-26911acf895e",
   "metadata": {},
   "outputs": [],
   "source": [
    "import pandas as pd\n",
    "\n",
    "df_updated = pd.read_csv(\"BLIP_results_facial_expressions.csv\")"
   ]
  },
  {
   "cell_type": "code",
   "execution_count": null,
   "id": "0191c354-3751-478d-a8dd-d75ba7f72b19",
   "metadata": {},
   "outputs": [],
   "source": [
    "df_correct = df_updated[df_updated[\"correct_answer\"] == df_updated[\"generated_answer\"]]\n",
    "df_correct"
   ]
  },
  {
   "cell_type": "code",
   "execution_count": null,
   "id": "5dec22c4-321d-48ed-9549-74a29ee0a434",
   "metadata": {},
   "outputs": [],
   "source": [
    "def is_correct_first(row):\n",
    "    prompt = row['clean_prompt']\n",
    "    correct_answer = row['correct_answer']\n",
    "    return 'feeling ' + correct_answer + ' or' in prompt\n",
    "\n",
    "# Adding the 'correct_first' column\n",
    "df_correct['correct_first'] = df_correct.apply(is_correct_first, axis=1)\n"
   ]
  },
  {
   "cell_type": "code",
   "execution_count": null,
   "id": "ac4f3ef2-2d46-461c-84c3-d2f1a24fa046",
   "metadata": {},
   "outputs": [],
   "source": [
    "df_correct['correct_answer'].unique()"
   ]
  },
  {
   "cell_type": "code",
   "execution_count": null,
   "id": "080e6f63-e0e0-4238-bc97-92515cd227f5",
   "metadata": {},
   "outputs": [],
   "source": [
    "def sample_emotions(df, emotion, sample_size=250):\n",
    "    correct_first_true = df[(df['correct_answer'] == emotion) & (df['correct_first'] == True)]\n",
    "    correct_first_false = df[(df['correct_answer'] == emotion) & (df['correct_first'] == False)]\n",
    "    \n",
    "    # Ensure we don't sample more than available\n",
    "    sample_true = correct_first_true.sample(n=min(sample_size, len(correct_first_true)), random_state=1)\n",
    "    sample_false = correct_first_false.sample(n=min(sample_size, len(correct_first_false)), random_state=1)\n",
    "    \n",
    "    return pd.concat([sample_true, sample_false])\n",
    "\n",
    "emotions = df_correct['correct_answer'].unique()\n",
    "\n",
    "samples = pd.concat([sample_emotions(df_correct, emotion) for emotion in emotions])\n"
   ]
  },
  {
   "cell_type": "code",
   "execution_count": null,
   "id": "a1d1fdcb-d9fe-4af2-aa83-258ff60f212a",
   "metadata": {},
   "outputs": [],
   "source": [
    "emotion_counts = samples['correct_answer'].value_counts()\n",
    "correct_first_counts = samples['correct_first'].value_counts()\n"
   ]
  },
  {
   "cell_type": "code",
   "execution_count": null,
   "id": "5dd93dc5-8a4c-4062-8635-87904d7a0627",
   "metadata": {},
   "outputs": [],
   "source": [
    "emotion_counts"
   ]
  },
  {
   "cell_type": "code",
   "execution_count": null,
   "id": "2b59ad6b-7f79-4558-b691-f5d179c2f1cf",
   "metadata": {},
   "outputs": [],
   "source": [
    "correct_first_counts"
   ]
  },
  {
   "cell_type": "code",
   "execution_count": null,
   "id": "0ef8c151-fa90-4deb-abd7-ba2eab871f03",
   "metadata": {},
   "outputs": [],
   "source": [
    "len(samples)"
   ]
  },
  {
   "cell_type": "code",
   "execution_count": null,
   "id": "77687192-27f5-4dc1-b4f8-456cca31a1b3",
   "metadata": {},
   "outputs": [],
   "source": [
    "samples.to_csv(\"BLIP_final_facial_expressions.csv\", index=False)"
   ]
  },
  {
   "cell_type": "markdown",
   "id": "41bd9a7a-1434-483d-8e3d-44e76c85b4e7",
   "metadata": {},
   "source": [
    "# Creating corrupted prompts"
   ]
  },
  {
   "cell_type": "code",
   "execution_count": null,
   "id": "54b82f73-b5ca-4c19-b728-f8747b03b0d2",
   "metadata": {},
   "outputs": [],
   "source": [
    "df = pd.read_csv(\"BLIP_final_facial_expressions.csv\")"
   ]
  },
  {
   "cell_type": "code",
   "execution_count": null,
   "id": "3dfa8f18-6bff-4675-afb9-379af1ae4608",
   "metadata": {},
   "outputs": [],
   "source": [
    "# Mapping core adjectives to \"positive\", \"negative\", and \"neutral\"\n",
    "core_to_sentiment = {\n",
    "    \"angry\": \"negative\",\n",
    "    \"disgusted\": \"negative\",\n",
    "    \"fearful\": \"negative\",\n",
    "    \"happy\": \"positive\",\n",
    "    \"neutral\": \"neutral\",\n",
    "    \"sad\": \"negative\",\n",
    "    \"surprised\": \"neutral\"\n",
    "}\n",
    "\n",
    "# Initial adjective to core mapping\n",
    "adjective_to_core = {\n",
    "    \"amused\": \"happy\",\n",
    "    \"ashamed\": \"sad\",\n",
    "    \"awed\": \"surprised\",\n",
    "    \"bored\": \"neutral\",\n",
    "    \"calm\": \"neutral\",\n",
    "    \"confident\": \"happy\",\n",
    "    \"confused\": \"neutral\",\n",
    "    \"content\": \"happy\",\n",
    "    \"curious\": \"neutral\",\n",
    "    \"disoriented\": \"neutral\",\n",
    "    \"distracted\": \"neutral\",\n",
    "    \"embarrassed\": \"sad\",\n",
    "    \"envious\": \"angry\",\n",
    "    \"flustered\": \"fearful\",\n",
    "    \"giggly\": \"happy\",\n",
    "    \"grateful\": \"happy\",\n",
    "    \"grumpy\": \"angry\",\n",
    "    \"hopeful\": \"happy\",\n",
    "    \"horrified\": \"fearful\",\n",
    "    \"insecure\": \"fearful\",\n",
    "    \"jealous\": \"angry\",\n",
    "    \"lonely\": \"sad\",\n",
    "    \"nostalgic\": \"sad\",\n",
    "    \"overwhelmed\": \"fearful\",\n",
    "    \"pleased\": \"happy\",\n",
    "    \"puzzled\": \"neutral\",\n",
    "    \"relaxed\": \"happy\",\n",
    "    \"relieved\": \"happy\",\n",
    "    \"restless\": \"neutral\",\n",
    "    \"satisfied\": \"happy\",\n",
    "    \"scornful\": \"disgusted\",\n",
    "    \"shocked\": \"surprised\",\n",
    "    \"shy\": \"neutral\",\n",
    "    \"sincere\": \"neutral\",\n",
    "    \"startled\": \"surprised\",\n",
    "    \"stressed\": \"fearful\",\n",
    "    \"thoughtful\": \"neutral\",\n",
    "    \"uncomfortable\": \"disgusted\",\n",
    "    \"apathetic\": \"neutral\",\n",
    "    \"impressed\": \"surprised\",\n",
    "    \"guilty\": \"sad\",\n",
    "    \"humiliated\": \"sad\",\n",
    "    \"sympathetic\": \"neutral\"\n",
    "}\n",
    "\n",
    "# Create the final dictionary with sentiment classification\n",
    "adjective_to_core_and_sentiment = {\n",
    "    adj: [core, core_to_sentiment[core]]\n",
    "    for adj, core in adjective_to_core.items()\n",
    "}\n",
    "\n",
    "print(adjective_to_core_and_sentiment)\n"
   ]
  },
  {
   "cell_type": "code",
   "execution_count": null,
   "id": "055ab22a-80f0-4238-9c35-8038a0ef79df",
   "metadata": {},
   "outputs": [],
   "source": [
    "import random\n",
    "sentiment_to_adjectives = {\n",
    "    \"positive\": [adj for adj, core in adjective_to_core.items() if core_to_sentiment[core] == \"positive\"],\n",
    "    \"negative\": [adj for adj, core in adjective_to_core.items() if core_to_sentiment[core] == \"negative\"],\n",
    "    \"neutral\": [adj for adj, core in adjective_to_core.items() if core_to_sentiment[core] == \"neutral\"]\n",
    "}\n",
    "\n",
    "# Function to replace adjectives in the prompt\n",
    "def replace_adjective(prompt):\n",
    "    parts = prompt.split(\"feeling \")[1].split(\" or \")\n",
    "    first, second = parts[0], parts[1].rstrip(\"?\")\n",
    "\n",
    "    # Determine the sentiment of the original adjectives\n",
    "    first_sentiment = core_to_sentiment.get(adjective_to_core.get(first, first), \"neutral\")\n",
    "    second_sentiment = core_to_sentiment.get(adjective_to_core.get(second, second), \"neutral\")\n",
    "\n",
    "    # Select opposite adjectives\n",
    "    if first_sentiment == \"positive\":\n",
    "        new_first = random.choice(sentiment_to_adjectives[\"negative\"] + sentiment_to_adjectives[\"neutral\"])\n",
    "    else:\n",
    "        new_first = random.choice(sentiment_to_adjectives[\"positive\"])\n",
    "\n",
    "    if second_sentiment == \"positive\":\n",
    "        new_second = random.choice(sentiment_to_adjectives[\"negative\"] + sentiment_to_adjectives[\"neutral\"])\n",
    "    else:\n",
    "        new_second = random.choice(sentiment_to_adjectives[\"positive\"])\n",
    "\n",
    "    return f\"Is this person feeling {new_first} or {new_second}?\"\n",
    "\n",
    "df[\"corrupt_prompt\"] = df[\"clean_prompt\"].apply(replace_adjective)\n",
    "df[\"corrupt_prompt\"]"
   ]
  },
  {
   "cell_type": "code",
   "execution_count": null,
   "id": "7bf6f1a4-e336-40ff-956f-916e2cf81506",
   "metadata": {},
   "outputs": [],
   "source": [
    "df.to_csv(\"BLIP_final_facial_expressions.csv\", index=False)"
   ]
  }
 ],
 "metadata": {
  "kernelspec": {
   "display_name": "Python 3 (ipykernel)",
   "language": "python",
   "name": "python3"
  },
  "language_info": {
   "codemirror_mode": {
    "name": "ipython",
    "version": 3
   },
   "file_extension": ".py",
   "mimetype": "text/x-python",
   "name": "python",
   "nbconvert_exporter": "python",
   "pygments_lexer": "ipython3",
   "version": "3.9.16"
  }
 },
 "nbformat": 4,
 "nbformat_minor": 5
}
